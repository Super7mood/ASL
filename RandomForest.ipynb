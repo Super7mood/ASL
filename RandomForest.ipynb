{
 "cells": [
  {
   "cell_type": "code",
   "execution_count": 12,
   "id": "78af9464-fcab-4b0d-be8f-dfd8bbb7f741",
   "metadata": {},
   "outputs": [],
   "source": [
    "import numpy as np\n",
    "import pickle\n",
    "from sklearn.ensemble import RandomForestClassifier\n",
    "from sklearn.model_selection import train_test_split \n",
    "from sklearn.model_selection import GridSearchCV\n",
    "from sklearn.metrics import accuracy_score, precision_score, recall_score, f1_score, classification_report, r2_score"
   ]
  },
  {
   "cell_type": "code",
   "execution_count": 14,
   "id": "71466e1f-fd0a-4590-8f03-2616a4ed6ff8",
   "metadata": {},
   "outputs": [],
   "source": [
    "dataDict = pickle.load(open('./data.pickle', 'rb'))\n",
    "\n",
    "data = np.asarray(dataDict['data'])\n",
    "labels = np.asarray(dataDict['labels'])"
   ]
  },
  {
   "cell_type": "code",
   "execution_count": 16,
   "id": "802fa8b9-537a-4dcf-a0ab-286906ecfeda",
   "metadata": {},
   "outputs": [],
   "source": [
    "x_train, x_test, y_train, y_test = train_test_split(data, labels, test_size = 0.3, stratify=labels, random_state=6)"
   ]
  },
  {
   "cell_type": "code",
   "execution_count": 18,
   "id": "decb0f21-e02e-444e-8a2b-7b8ec5acea61",
   "metadata": {},
   "outputs": [
    {
     "data": {
      "text/plain": [
       "0.8388998035363457"
      ]
     },
     "execution_count": 18,
     "metadata": {},
     "output_type": "execute_result"
    }
   ],
   "source": [
    "\n",
    "model1 = RandomForestClassifier(n_estimators=150, max_depth = 150, random_state=10, min_samples_split= 2, min_samples_leaf=1, max_features='sqrt')\n",
    "\n",
    "\n",
    "\n",
    "model1.fit(x_train, y_train)\n",
    "\n",
    "\n",
    "\n",
    "y_predict = model1.predict(x_test)\n",
    "\n",
    "\n",
    "\n",
    "score = accuracy_score(y_predict, y_test)\n",
    "score"
   ]
  },
  {
   "cell_type": "code",
   "execution_count": 19,
   "id": "9745c442-1495-4aef-b0a6-1487ccf59db3",
   "metadata": {},
   "outputs": [],
   "source": [
    "f = open('model.pickle', 'wb')\n",
    "pickle.dump({'model': model1}, f)\n",
    "f.close()"
   ]
  },
  {
   "cell_type": "code",
   "execution_count": 21,
   "id": "dc45d276-8b64-47b8-8527-18e5fabbeea4",
   "metadata": {},
   "outputs": [
    {
     "data": {
      "text/plain": [
       "0.8388998035363457"
      ]
     },
     "execution_count": 21,
     "metadata": {},
     "output_type": "execute_result"
    }
   ],
   "source": [
    "modelDict = pickle.load(open('./model.pickle', 'rb'))\n",
    "model = modelDict['model']\n",
    "\n",
    "y_predict = model1.predict(x_test)\n",
    "score = accuracy_score(y_predict, y_test)\n",
    "score"
   ]
  },
  {
   "cell_type": "code",
   "execution_count": 24,
   "id": "da878647-b5f1-4106-9e14-fcd63505d874",
   "metadata": {},
   "outputs": [
    {
     "data": {
      "text/plain": [
       "0.8388998035363457"
      ]
     },
     "execution_count": 24,
     "metadata": {},
     "output_type": "execute_result"
    }
   ],
   "source": [
    "\n",
    "\n",
    "y_predict = model1.predict(x_test)\n",
    "score = accuracy_score(y_predict, y_test)\n",
    "score"
   ]
  },
  {
   "cell_type": "code",
   "execution_count": 26,
   "id": "2efbbd0a-9ebe-4f91-84be-18db833116de",
   "metadata": {},
   "outputs": [
    {
     "name": "stdout",
     "output_type": "stream",
     "text": [
      "Precision: 0.85\n"
     ]
    }
   ],
   "source": [
    "precision = precision_score(y_test, y_predict, average='weighted')\n",
    "print(f\"Precision: {precision:.2f}\")"
   ]
  },
  {
   "cell_type": "code",
   "execution_count": 28,
   "id": "6cdf85c6-9fa1-415c-abe7-b5c798f2ad19",
   "metadata": {},
   "outputs": [
    {
     "name": "stdout",
     "output_type": "stream",
     "text": [
      "Recall: 0.84\n"
     ]
    }
   ],
   "source": [
    "recall = recall_score(y_test, y_predict, average='weighted')\n",
    "print(f\"Recall: {recall:.2f}\")"
   ]
  },
  {
   "cell_type": "code",
   "execution_count": 30,
   "id": "2e058b18-f2f4-41f0-b682-6e43bc97a642",
   "metadata": {},
   "outputs": [
    {
     "name": "stdout",
     "output_type": "stream",
     "text": [
      "F1 Score: 0.84\n"
     ]
    }
   ],
   "source": [
    "f1 = f1_score(y_test, y_predict, average='weighted')\n",
    "print(f\"F1 Score: {f1:.2f}\")"
   ]
  },
  {
   "cell_type": "code",
   "execution_count": 351,
   "id": "ce75e6de-cc01-4d0d-976b-ef3dc1fdd7d9",
   "metadata": {},
   "outputs": [
    {
     "name": "stdout",
     "output_type": "stream",
     "text": [
      "\n",
      "Classification Report:\n",
      "               precision    recall  f1-score   support\n",
      "\n",
      "           A       0.68      0.91      0.78        23\n",
      "           B       0.90      1.00      0.95        18\n",
      "           C       1.00      0.93      0.96        14\n",
      "           D       0.83      1.00      0.91        20\n",
      "           E       0.81      0.72      0.76        18\n",
      "           F       1.00      0.96      0.98        23\n",
      "           G       0.84      1.00      0.91        21\n",
      "           H       1.00      0.88      0.94        17\n",
      "           I       0.86      0.96      0.91        26\n",
      "           J       0.64      0.56      0.60        25\n",
      "           K       0.91      1.00      0.95        20\n",
      "           L       0.92      0.92      0.92        24\n",
      "           M       0.92      0.71      0.80        17\n",
      "           N       0.75      0.94      0.83        16\n",
      "           O       1.00      0.78      0.88        18\n",
      "           P       1.00      0.81      0.90        16\n",
      "           Q       0.79      0.94      0.86        16\n",
      "           R       0.69      0.50      0.58        18\n",
      "           S       0.84      0.80      0.82        20\n",
      "           T       0.78      0.44      0.56        16\n",
      "           U       0.57      0.63      0.60        19\n",
      "           V       0.61      0.70      0.65        20\n",
      "           W       1.00      0.85      0.92        20\n",
      "           X       0.90      0.95      0.93        20\n",
      "           Y       0.83      0.79      0.81        19\n",
      "           Z       0.96      1.00      0.98        25\n",
      "\n",
      "    accuracy                           0.84       509\n",
      "   macro avg       0.85      0.83      0.83       509\n",
      "weighted avg       0.85      0.84      0.84       509\n",
      "\n"
     ]
    }
   ],
   "source": [
    "report = classification_report(y_test, y_predict)\n",
    "print(\"\\nClassification Report:\\n\", report)"
   ]
  },
  {
   "cell_type": "markdown",
   "id": "7637c3c5-a4b7-4d8c-a9a5-9aef20ad7def",
   "metadata": {},
   "source": [
    "# Parameters\n",
    "\n",
    "n_estimators the more the higher accuracy\n",
    "max_depth the more the higher accuracy\n",
    "min_samples_split the less the higher accuracy\n",
    "min_samples_leaf the less the higher accuracy\n",
    "max_features = sqrt is better than log in\n",
    "\n",
    "n_estimators=150, max_depth = 150, random_state=10, min_samples_split= 2, min_samples_leaf=1, max_features='sqrt'\n",
    "accuracy -> 83.9%\n",
    "    \n",
    "n_estimators=1, max_depth = 1, random_state=10, min_samples_split= 150, min_samples_leaf=150, max_features='log2'\n",
    "accuracy -> 9.2%\n",
    "\n"
   ]
  },
  {
   "cell_type": "code",
   "execution_count": 305,
   "id": "94db49de-d213-44c3-8cc5-54ff02e9cf16",
   "metadata": {},
   "outputs": [
    {
     "data": {
      "text/plain": [
       "0.0855457227138643"
      ]
     },
     "execution_count": 305,
     "metadata": {},
     "output_type": "execute_result"
    }
   ],
   "source": [
    "model1 = RandomForestClassifier(n_estimators=1, max_depth = 1, random_state=10, min_samples_split= 150, min_samples_leaf=150, max_features='log2')\n",
    "\n",
    "\n",
    "\n",
    "model1.fit(x_train, y_train)\n",
    "\n",
    "\n",
    "\n",
    "y_predict = model1.predict(x_test)\n",
    "\n",
    "score = accuracy_score(y_predict, y_test)\n",
    "score"
   ]
  },
  {
   "cell_type": "code",
   "execution_count": 315,
   "id": "5026aa78-bf07-4b50-a9b7-954b7407d0f1",
   "metadata": {},
   "outputs": [
    {
     "name": "stdout",
     "output_type": "stream",
     "text": [
      "Best Parameters: {'n_estimators': 50, 'min_samples_split': 3, 'min_samples_leaf': 6, 'max_features': 'log2', 'max_depth': 6}\n",
      "Accuracy Score: 0.5958702064896755\n"
     ]
    }
   ],
   "source": [
    "#Parameter tuning for random forest code from here https://towardsdatascience.com/hyperparameter-tuning-the-random-forest-in-python-using-scikit-learn-28d2aa77dd74\n",
    "#Gread search code from here https://scikit-learn.org/1.6/modules/generated/sklearn.model_selection.GridSearchCV.html\n",
    "\n",
    "from sklearn.model_selection import RandomizedSearchCV\n",
    "\n",
    "mode2 = RandomForestClassifier(random_state=10)\n",
    "\n",
    "# Define the parameter grid for RandomizedSearchCV\n",
    "param_grid = {\n",
    "     'n_estimators': [10, 20, 30, 40, 50],\n",
    "    'max_depth': [None, 1, 4, 6, 7, 9, 10, 15, 20, 30],\n",
    "    'min_samples_split': [2, 3, 5, 10],\n",
    "    'min_samples_leaf': [1, 2, 4, 5, 6, 7],\n",
    "    'max_features': ['sqrt', 'log2', None]\n",
    "}\n",
    "\n",
    "# Initialize RandomizedSearchCV\n",
    "random_search = RandomizedSearchCV(\n",
    "    estimator=mode2,\n",
    "    param_distributions=param_grid,\n",
    "    n_iter= 1,  # Number of random combinations to try\n",
    "    cv=5,\n",
    "    scoring='accuracy',\n",
    "    n_jobs=-1,  # Utilize all CPU core\n",
    "    random_state=10\n",
    ")\n",
    "random_search.fit(x_train, y_train)\n",
    "\n",
    "# Get the best model from RandomizedSearchCV\n",
    "best_model = random_search.best_estimator_\n",
    "\n",
    "# Make predictions on the test set\n",
    "y_predict = best_model.predict(x_test)\n",
    "\n",
    "# Evaluate accuracy\n",
    "score = accuracy_score(y_predict, y_test)\n",
    "\n",
    "# Print results\n",
    "print(f\"Best Parameters: {random_search.best_params_}\")\n",
    "print(f\"Accuracy Score: {score}\")"
   ]
  },
  {
   "cell_type": "markdown",
   "id": "1ed6410e-7cc9-49a6-a331-7167b9d11430",
   "metadata": {},
   "source": [
    "Parameter turning:\n",
    "\n",
    "1)\n",
    "Best Parameters: {'n_estimators': 100, 'min_samples_split': 2, 'min_samples_leaf': 1, 'max_features': 'sqrt', 'max_depth': None}\r\n",
    "Accuracy Score: 0.805500982318271\n",
    "\n",
    "2) Best Parameters: {'n_estimators': 200, 'min_samples_split': 10, 'min_samples_leaf': 4, 'max_features': 'sqrt', 'max_depth': None}\r\n",
    "Accuracy Score: 0.740667976424361\n",
    "3) Best Parameters: {'n_estimators': 400, 'min_samples_split': 3, 'min_samples_leaf': 6, 'max_features': 'log2', 'max_depth': 6}\r\n",
    "Accuracy Score: 0.64047151277013754\n",
    "\n",
    "\n",
    "2"
   ]
  },
  {
   "cell_type": "code",
   "execution_count": null,
   "id": "c2ae6805-8a2e-41fb-a10c-d6f32b120bb1",
   "metadata": {},
   "outputs": [],
   "source": []
  }
 ],
 "metadata": {
  "kernelspec": {
   "display_name": "Python [conda env:base] *",
   "language": "python",
   "name": "conda-base-py"
  },
  "language_info": {
   "codemirror_mode": {
    "name": "ipython",
    "version": 3
   },
   "file_extension": ".py",
   "mimetype": "text/x-python",
   "name": "python",
   "nbconvert_exporter": "python",
   "pygments_lexer": "ipython3",
   "version": "3.11.7"
  }
 },
 "nbformat": 4,
 "nbformat_minor": 5
}
